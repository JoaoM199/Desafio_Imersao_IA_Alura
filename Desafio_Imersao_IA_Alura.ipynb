{
  "nbformat": 4,
  "nbformat_minor": 0,
  "metadata": {
    "colab": {
      "provenance": [],
      "authorship_tag": "ABX9TyMohZrwWABxkO8munKk4qAn",
      "include_colab_link": true
    },
    "kernelspec": {
      "name": "python3",
      "display_name": "Python 3"
    },
    "language_info": {
      "name": "python"
    }
  },
  "cells": [
    {
      "cell_type": "markdown",
      "metadata": {
        "id": "view-in-github",
        "colab_type": "text"
      },
      "source": [
        "<a href=\"https://colab.research.google.com/github/JoaoM199/Desafio_Imersao_IA_Alura/blob/main/Desafio_Imersao_IA_Alura.ipynb\" target=\"_parent\"><img src=\"https://colab.research.google.com/assets/colab-badge.svg\" alt=\"Open In Colab\"/></a>"
      ]
    },
    {
      "cell_type": "markdown",
      "source": [
        "<h1>Descrição</h1>\n",
        "Este chatbot é capaz de te ajudar em relatórios escrevendo os resultados e discussão a partir de uma descrição do procedimento experimental.\n",
        "\n",
        "<b>Autor</b><br/>\n",
        "João Marcelo Coelho Pacheco"
      ],
      "metadata": {
        "id": "y-JYia4aN5wq"
      }
    },
    {
      "cell_type": "code",
      "execution_count": 1,
      "metadata": {
        "id": "zdk_BnW3N4WY"
      },
      "outputs": [],
      "source": [
        "!pip install -q -U google-generativeai"
      ]
    },
    {
      "cell_type": "markdown",
      "source": [
        "Conectando com a API"
      ],
      "metadata": {
        "id": "xJED7qNqXDWU"
      }
    },
    {
      "cell_type": "code",
      "source": [
        "# Importando bibliotecas\n",
        "import google.generativeai as genai\n",
        "from google.colab import userdata\n",
        "\n",
        "# Conectando o script à api do Google\n",
        "apikey = userdata.get('API_KEY')\n",
        "genai.configure(api_key=apikey)"
      ],
      "metadata": {
        "id": "ohbx2KSpXF5J"
      },
      "execution_count": 2,
      "outputs": []
    },
    {
      "cell_type": "markdown",
      "source": [
        "Listar modelos disponíveis e atribuir ele"
      ],
      "metadata": {
        "id": "pqIjDlOO_o-Q"
      }
    },
    {
      "cell_type": "code",
      "source": [
        "for m in genai.list_models():\n",
        "  if 'generateContent' in m.supported_generation_methods:\n",
        "    print(m.name)"
      ],
      "metadata": {
        "colab": {
          "base_uri": "https://localhost:8080/",
          "height": 139
        },
        "id": "f7e94mic_sr_",
        "outputId": "d19f9724-a68b-421b-effc-379062cd4a76"
      },
      "execution_count": 5,
      "outputs": [
        {
          "output_type": "stream",
          "name": "stdout",
          "text": [
            "models/gemini-1.0-pro\n",
            "models/gemini-1.0-pro-001\n",
            "models/gemini-1.0-pro-latest\n",
            "models/gemini-1.0-pro-vision-latest\n",
            "models/gemini-1.5-pro-latest\n",
            "models/gemini-pro\n",
            "models/gemini-pro-vision\n"
          ]
        }
      ]
    },
    {
      "cell_type": "markdown",
      "source": [
        "Configuração e ativação do modelo"
      ],
      "metadata": {
        "id": "wnpIZaqFbY_j"
      }
    },
    {
      "cell_type": "code",
      "source": [
        "# Configurações do modelo\n",
        "generation_config = {\n",
        "    \"candidate_count\": 1,\n",
        "    \"temperature\": 0.20,\n",
        "}\n",
        "safety_config = {\n",
        "    \"HARASSMENT\": \"BLOCK_LOW_AND_ABOVE\",\n",
        "    \"HATE\": \"BLOCK_LOW_AND_ABOVE\",\n",
        "    \"SEXUAL\": \"BLOCK_LOW_AND_ABOVE\",\n",
        "    \"DANGEROUS\": \"BLOCK_LOW_AND_ABOVE\",\n",
        "}\n",
        "\n",
        "# Ativação do modelo\n",
        "model = genai.GenerativeModel(model_name=\"gemini-1.0-pro\",\n",
        "                              generation_config=generation_config,\n",
        "                              safety_settings=safety_config)"
      ],
      "metadata": {
        "id": "FaDGGuiMKP2z"
      },
      "execution_count": 17,
      "outputs": []
    },
    {
      "cell_type": "markdown",
      "source": [
        "Chatbot"
      ],
      "metadata": {
        "id": "2qnK_FqObyj1"
      }
    },
    {
      "cell_type": "code",
      "source": [
        "# Ativação do chat\n",
        "chat = model.start_chat(history=[])"
      ],
      "metadata": {
        "id": "veSPNifbb2z0"
      },
      "execution_count": 24,
      "outputs": []
    },
    {
      "cell_type": "code",
      "source": [
        "# Entrada\n",
        "# Entrada do usuário\n",
        "direcionamento = \"Me ajude a escrever um relatório científico. Argumente e desenvolva os resultados e discussão com base nesse procedimento experimental descrito a seguir. Utilize linguagem científica, cada parágrafo deve ter no mínimo 3 linhas. Liste as referências consultadas no final. Segue o procedimento experimental\"\n",
        "pergunta = input(\"Digite aqui o procedimento experimental do seu relatório: \\n\")\n",
        "prompt = \"{}: {}\".format(direcionamento,pergunta)\n",
        "# Retorno do chatbot\n",
        "resposta = chat.send_message(prompt)\n",
        "print(resposta.text, \"\\n\")"
      ],
      "metadata": {
        "colab": {
          "base_uri": "https://localhost:8080/",
          "height": 402
        },
        "id": "INPgOBOnb-fQ",
        "outputId": "e45c34de-2726-4f7d-83b4-8c22f2592219"
      },
      "execution_count": 25,
      "outputs": [
        {
          "output_type": "stream",
          "name": "stdout",
          "text": [
            "Digite aqui o procedimento experimental do seu relatório: \n",
            "O primeiro passo foi a pesagem de 5 g de leite de magnésia em um erlenmeyer de 250 mL, em seguida foram adicionados 30 mL de HCl (0,5 N), onde esta mistura foi aquecida por aproximadamente 6 minutos. Enquanto a solução foi aquecida, foi preparado o branco, onde foram adicionados 10 mL de Ácido Clorídrico a 0,1 N e 3 gotas de fenolftaleína em um erlenmeyer de 250 mL, onde foi observada uma mudança de coloração. Em seguida, foram adicionados, com o auxílio de um béquer de 50 mL, hidróxido de sódio a 0,5 N em uma bureta de titulação de vidro. Assim que a titulação chegou aos 8 mL, foi observada uma mudança de coloração da amostra.  O próximo passo foi a retirada da amostra de AAS com HCl e adicionar 3 gotas de fenolftaleína à solução. Novamente a bureta foi preenchida com Hidróxido de sódio a 0,5 N e o erlenmeyer contendo a solução foi posicionada abaixo da estrutura de titulação. Aos 17 mL gastos do titulante, foi observada uma mudança de coloração. \n",
            "**Resultados**\n",
            "\n",
            "A titulação do branco consumiu 10 mL de NaOH 0,1 N, enquanto a titulação da amostra de leite de magnésia consumiu 8 mL de NaOH 0,5 N. A titulação da amostra de AAS consumiu 17 mL de NaOH 0,5 N.\n",
            "\n",
            "**Discussão**\n",
            "\n",
            "O consumo de NaOH na titulação do branco representa a quantidade de NaOH necessária para neutralizar o ácido clorídrico presente no branco. O consumo de NaOH na titulação da amostra de leite de magnésia representa a quantidade de NaOH necessária para neutralizar o ácido clorídrico presente na amostra e o ácido clorídrico que reagiu com o leite de magnésia. A diferença entre o consumo de NaOH na titulação da amostra de leite de magnésia e o consumo de NaOH na titulação do branco representa a quantidade de NaOH necessária para neutralizar o ácido clorídrico que reagiu com o leite de magnésia.\n",
            "\n",
            "O consumo de NaOH na titulação da amostra de AAS representa a quantidade de NaOH necessária para neutralizar o ácido clorídrico presente na amostra e o ácido clorídrico que reagiu com o AAS. A diferença entre o consumo de NaOH na titulação da amostra de AAS e o consumo de NaOH na titulação do branco representa a quantidade de NaOH necessária para neutralizar o ácido clorídrico que reagiu com o AAS.\n",
            "\n",
            "**Conclusão**\n",
            "\n",
            "Os resultados da titulação indicam que o leite de magnésia e o AAS reagiram com o ácido clorídrico. A quantidade de ácido clorídrico que reagiu com o leite de magnésia foi menor do que a quantidade de ácido clorídrico que reagiu com o AAS.\n",
            "\n",
            "**Referências**\n",
            "\n",
            "* Atkins, P. W., & de Paula, J. (2014). Atkins' inorganic chemistry (9th ed.). Oxford University Press.\n",
            "* Skoog, D. A., West, D. M., Holler, F. J., & Crouch, S. R. (2017). Fundamentals of analytical chemistry (9th ed.). Cengage Learning. \n",
            "\n"
          ]
        }
      ]
    },
    {
      "cell_type": "markdown",
      "source": [
        "Melhorando a visualização do código"
      ],
      "metadata": {
        "id": "ztoeMYxsjA_i"
      }
    },
    {
      "cell_type": "code",
      "source": [
        "import textwrap\n",
        "from IPython.display import display, Markdown\n",
        "\n",
        "def to_markdown(text):\n",
        "    text = text.replace('•', '  *')  # Substitui os bullets por asteriscos\n",
        "    return Markdown(textwrap.indent(text, '> ', predicate=lambda _: True))  # Formata o texto\n",
        "\n",
        "# Itera sobre as mensagens do chat e exibe cada uma formatada\n",
        "for message in chat.history:\n",
        "    display(to_markdown(f'**{message.role}**: {message.parts[0].text}'))  # Exibe a mensagem formatada\n",
        "    print('------------------------')  # Adiciona uma linha divisória entre as mensagens"
      ],
      "metadata": {
        "colab": {
          "base_uri": "https://localhost:8080/",
          "height": 624
        },
        "id": "zkA2eC4JixHg",
        "outputId": "2e123ef3-acce-46c2-d0b1-405e91abd209"
      },
      "execution_count": 26,
      "outputs": [
        {
          "output_type": "display_data",
          "data": {
            "text/plain": [
              "<IPython.core.display.Markdown object>"
            ],
            "text/markdown": "> **user**: Me ajude a escrever um relatório científico. Argumente e desenvolva os resultados e discussão com base nesse procedimento experimental descrito a seguir. Utilize linguagem científica, cada parágrafo deve ter no mínimo 3 linhas. Liste as referências consultadas no final. Segue o procedimento experimental: O primeiro passo foi a pesagem de 5 g de leite de magnésia em um erlenmeyer de 250 mL, em seguida foram adicionados 30 mL de HCl (0,5 N), onde esta mistura foi aquecida por aproximadamente 6 minutos. Enquanto a solução foi aquecida, foi preparado o branco, onde foram adicionados 10 mL de Ácido Clorídrico a 0,1 N e 3 gotas de fenolftaleína em um erlenmeyer de 250 mL, onde foi observada uma mudança de coloração. Em seguida, foram adicionados, com o auxílio de um béquer de 50 mL, hidróxido de sódio a 0,5 N em uma bureta de titulação de vidro. Assim que a titulação chegou aos 8 mL, foi observada uma mudança de coloração da amostra.  O próximo passo foi a retirada da amostra de AAS com HCl e adicionar 3 gotas de fenolftaleína à solução. Novamente a bureta foi preenchida com Hidróxido de sódio a 0,5 N e o erlenmeyer contendo a solução foi posicionada abaixo da estrutura de titulação. Aos 17 mL gastos do titulante, foi observada uma mudança de coloração. "
          },
          "metadata": {}
        },
        {
          "output_type": "stream",
          "name": "stdout",
          "text": [
            "------------------------\n"
          ]
        },
        {
          "output_type": "display_data",
          "data": {
            "text/plain": [
              "<IPython.core.display.Markdown object>"
            ],
            "text/markdown": "> **model**: **Resultados**\n> \n> A titulação do branco consumiu 10 mL de NaOH 0,1 N, enquanto a titulação da amostra de leite de magnésia consumiu 8 mL de NaOH 0,5 N. A titulação da amostra de AAS consumiu 17 mL de NaOH 0,5 N.\n> \n> **Discussão**\n> \n> O consumo de NaOH na titulação do branco representa a quantidade de NaOH necessária para neutralizar o ácido clorídrico presente no branco. O consumo de NaOH na titulação da amostra de leite de magnésia representa a quantidade de NaOH necessária para neutralizar o ácido clorídrico presente na amostra e o ácido clorídrico que reagiu com o leite de magnésia. A diferença entre o consumo de NaOH na titulação da amostra de leite de magnésia e o consumo de NaOH na titulação do branco representa a quantidade de NaOH necessária para neutralizar o ácido clorídrico que reagiu com o leite de magnésia.\n> \n> O consumo de NaOH na titulação da amostra de AAS representa a quantidade de NaOH necessária para neutralizar o ácido clorídrico presente na amostra e o ácido clorídrico que reagiu com o AAS. A diferença entre o consumo de NaOH na titulação da amostra de AAS e o consumo de NaOH na titulação do branco representa a quantidade de NaOH necessária para neutralizar o ácido clorídrico que reagiu com o AAS.\n> \n> **Conclusão**\n> \n> Os resultados da titulação indicam que o leite de magnésia e o AAS reagiram com o ácido clorídrico. A quantidade de ácido clorídrico que reagiu com o leite de magnésia foi menor do que a quantidade de ácido clorídrico que reagiu com o AAS.\n> \n> **Referências**\n> \n> * Atkins, P. W., & de Paula, J. (2014). Atkins' inorganic chemistry (9th ed.). Oxford University Press.\n> * Skoog, D. A., West, D. M., Holler, F. J., & Crouch, S. R. (2017). Fundamentals of analytical chemistry (9th ed.). Cengage Learning."
          },
          "metadata": {}
        },
        {
          "output_type": "stream",
          "name": "stdout",
          "text": [
            "------------------------\n"
          ]
        }
      ]
    }
  ]
}