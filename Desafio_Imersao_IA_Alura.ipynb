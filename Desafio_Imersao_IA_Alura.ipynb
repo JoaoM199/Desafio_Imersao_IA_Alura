{
  "nbformat": 4,
  "nbformat_minor": 0,
  "metadata": {
    "colab": {
      "provenance": [],
      "authorship_tag": "ABX9TyMGN8KgLxSdl5iN4URdecy+",
      "include_colab_link": true
    },
    "kernelspec": {
      "name": "python3",
      "display_name": "Python 3"
    },
    "language_info": {
      "name": "python"
    }
  },
  "cells": [
    {
      "cell_type": "markdown",
      "metadata": {
        "id": "view-in-github",
        "colab_type": "text"
      },
      "source": [
        "<a href=\"https://colab.research.google.com/github/JoaoM199/Desafio_Imersao_IA_Alura/blob/main/Desafio_Imersao_IA_Alura.ipynb\" target=\"_parent\"><img src=\"https://colab.research.google.com/assets/colab-badge.svg\" alt=\"Open In Colab\"/></a>"
      ]
    },
    {
      "cell_type": "markdown",
      "source": [
        "<h1>Descrição</h1>\n",
        "Este chatbot é capaz de te ajudar em relatórios, escrevendo os resultados e discussão a partir de uma descrição do procedimento experimental. <br/>\n",
        "<i>Obs. Dê o seu toque humano, adapte a resposta ao da sua maneira e enriqueça-a com mais informações</i>\n",
        "\n",
        "<b>Autor</b><br/>\n",
        "João Marcelo Coelho Pacheco<br/>\n",
        "___________________________\n",
        "<br/>\n",
        "O código e suas instruções estão logo abaixo:"
      ],
      "metadata": {
        "id": "y-JYia4aN5wq"
      }
    },
    {
      "cell_type": "markdown",
      "source": [
        "Instalar o SDK do Google AI"
      ],
      "metadata": {
        "id": "v-j--Vvc567B"
      }
    },
    {
      "cell_type": "code",
      "execution_count": null,
      "metadata": {
        "id": "zdk_BnW3N4WY"
      },
      "outputs": [],
      "source": [
        "!pip install -q -U google-generativeai"
      ]
    },
    {
      "cell_type": "markdown",
      "source": [
        "Conectando com a API"
      ],
      "metadata": {
        "id": "xJED7qNqXDWU"
      }
    },
    {
      "cell_type": "code",
      "source": [
        "# Importando bibliotecas\n",
        "import google.generativeai as genai\n",
        "from google.colab import userdata\n",
        "\n",
        "# Conectando o script à api do Google\n",
        "apikey = userdata.get('API_KEY')\n",
        "genai.configure(api_key=apikey)"
      ],
      "metadata": {
        "id": "ohbx2KSpXF5J"
      },
      "execution_count": null,
      "outputs": []
    },
    {
      "cell_type": "markdown",
      "source": [
        "Listar modelos disponíveis e atribuir ele"
      ],
      "metadata": {
        "id": "pqIjDlOO_o-Q"
      }
    },
    {
      "cell_type": "code",
      "source": [
        "for m in genai.list_models():\n",
        "  if 'generateContent' in m.supported_generation_methods:\n",
        "    print(m.name)"
      ],
      "metadata": {
        "id": "f7e94mic_sr_"
      },
      "execution_count": null,
      "outputs": []
    },
    {
      "cell_type": "markdown",
      "source": [
        "Configuração e ativação do modelo"
      ],
      "metadata": {
        "id": "wnpIZaqFbY_j"
      }
    },
    {
      "cell_type": "code",
      "source": [
        "# Configurações do modelo\n",
        "generation_config = {\n",
        "    \"candidate_count\": 1,\n",
        "    \"temperature\": 0.20,\n",
        "}\n",
        "safety_config = {\n",
        "    \"HARASSMENT\": \"BLOCK_LOW_AND_ABOVE\",\n",
        "    \"HATE\": \"BLOCK_LOW_AND_ABOVE\",\n",
        "    \"SEXUAL\": \"BLOCK_LOW_AND_ABOVE\",\n",
        "    \"DANGEROUS\": \"BLOCK_LOW_AND_ABOVE\",\n",
        "}\n",
        "\n",
        "# Ativação do modelo\n",
        "model = genai.GenerativeModel(model_name=\"gemini-1.0-pro\",\n",
        "                              generation_config=generation_config,\n",
        "                              safety_settings=safety_config)"
      ],
      "metadata": {
        "id": "FaDGGuiMKP2z"
      },
      "execution_count": null,
      "outputs": []
    },
    {
      "cell_type": "markdown",
      "source": [
        "Chatbot"
      ],
      "metadata": {
        "id": "2qnK_FqObyj1"
      }
    },
    {
      "cell_type": "code",
      "source": [
        "# Ativação do chat\n",
        "chat = model.start_chat(history=[])"
      ],
      "metadata": {
        "id": "veSPNifbb2z0"
      },
      "execution_count": null,
      "outputs": []
    },
    {
      "cell_type": "code",
      "source": [
        "# Entrada do usuário\n",
        "direcionamento = \"Me ajude a escrever um relatório científico. Argumente e desenvolva os resultados e discussão com base nesse procedimento experimental descrito a seguir. Utilize linguagem científica, cada parágrafo deve ter no mínimo 5 linhas. Desenvolva os argumentos com base na literatura explicando de forma bastante detalhada, de acordo com a literatura. Liste as referências consultadas no final. Segue o procedimento experimental\"\n",
        "pergunta = input(\"Cole aqui o texto que descreva o procedimento experimental do seu relatório: \\n\")\n",
        "prompt = \"{}:\\n {}\".format(direcionamento,pergunta)\n",
        "# Retorno do chatbot\n",
        "resposta = chat.send_message(prompt)\n",
        "print(resposta.text, \"\\n\")"
      ],
      "metadata": {
        "id": "INPgOBOnb-fQ"
      },
      "execution_count": null,
      "outputs": []
    },
    {
      "cell_type": "markdown",
      "source": [
        "Melhorando a visualização do código"
      ],
      "metadata": {
        "id": "ztoeMYxsjA_i"
      }
    },
    {
      "cell_type": "code",
      "source": [
        "import textwrap\n",
        "from IPython.display import display, Markdown\n",
        "\n",
        "def to_markdown(text):\n",
        "    text = text.replace('•', '  *')  # Substitui os bullets por asteriscos\n",
        "    return Markdown(textwrap.indent(text, '> ', predicate=lambda _: True))  # Formata o texto\n",
        "\n",
        "# Itera sobre as mensagens do chat e exibe cada uma formatada\n",
        "for message in chat.history:\n",
        "    display(to_markdown(f'**{message.role}**: {message.parts[0].text}'))  # Exibe a mensagem formatada\n",
        "    print('------------------------')  # Adiciona uma linha divisória entre as mensagens"
      ],
      "metadata": {
        "id": "zkA2eC4JixHg"
      },
      "execution_count": null,
      "outputs": []
    }
  ]
}